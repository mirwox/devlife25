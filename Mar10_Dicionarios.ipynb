{
 "cells": [
  {
   "cell_type": "markdown",
   "id": "c01b6788-2d31-4aaa-8257-fb8402a0d3ca",
   "metadata": {},
   "source": [
    "# Verificando se chave existe"
   ]
  },
  {
   "cell_type": "code",
   "execution_count": 1,
   "id": "b3dcddc2-1e83-43ec-8498-b5c26ae84548",
   "metadata": {},
   "outputs": [
    {
     "ename": "KeyError",
     "evalue": "'alface'",
     "output_type": "error",
     "traceback": [
      "\u001b[0;31m---------------------------------------------------------------------------\u001b[0m",
      "\u001b[0;31mKeyError\u001b[0m                                  Traceback (most recent call last)",
      "Cell \u001b[0;32mIn[1], line 5\u001b[0m\n\u001b[1;32m      1\u001b[0m port2eng \u001b[38;5;241m=\u001b[39m {\u001b[38;5;124m'\u001b[39m\u001b[38;5;124mcouve\u001b[39m\u001b[38;5;124m'\u001b[39m: \u001b[38;5;124m'\u001b[39m\u001b[38;5;124mkale\u001b[39m\u001b[38;5;124m'\u001b[39m, \u001b[38;5;124m'\u001b[39m\u001b[38;5;124mrepolho\u001b[39m\u001b[38;5;124m'\u001b[39m: \u001b[38;5;124m'\u001b[39m\u001b[38;5;124mcabbage\u001b[39m\u001b[38;5;124m'\u001b[39m, \u001b[38;5;124m'\u001b[39m\u001b[38;5;124mbrocolis\u001b[39m\u001b[38;5;124m'\u001b[39m: \u001b[38;5;124m'\u001b[39m\u001b[38;5;124mbroccoli\u001b[39m\u001b[38;5;124m'\u001b[39m}\n\u001b[1;32m      3\u001b[0m port \u001b[38;5;241m=\u001b[39m \u001b[38;5;124m'\u001b[39m\u001b[38;5;124malface\u001b[39m\u001b[38;5;124m'\u001b[39m\n\u001b[0;32m----> 5\u001b[0m eng \u001b[38;5;241m=\u001b[39m \u001b[43mport2eng\u001b[49m\u001b[43m[\u001b[49m\u001b[43mport\u001b[49m\u001b[43m]\u001b[49m\n\u001b[1;32m      6\u001b[0m \u001b[38;5;28mprint\u001b[39m(\u001b[38;5;124mf\u001b[39m\u001b[38;5;124m'\u001b[39m\u001b[38;5;132;01m{\u001b[39;00mport\u001b[38;5;132;01m}\u001b[39;00m\u001b[38;5;124m em inglês é \u001b[39m\u001b[38;5;132;01m{\u001b[39;00meng\u001b[38;5;132;01m}\u001b[39;00m\u001b[38;5;124m'\u001b[39m)\n",
      "\u001b[0;31mKeyError\u001b[0m: 'alface'"
     ]
    }
   ],
   "source": [
    "port2eng = {'couve': 'kale', 'repolho': 'cabbage', 'brocolis': 'broccoli'}\n",
    "\n",
    "port = 'alface'\n",
    "\n",
    "eng = port2eng[port]\n",
    "print(f'{port} em inglês é {eng}')"
   ]
  },
  {
   "cell_type": "code",
   "execution_count": null,
   "id": "86ff740a-788a-4278-8093-2b419bfadc55",
   "metadata": {},
   "outputs": [],
   "source": []
  },
  {
   "cell_type": "code",
   "execution_count": null,
   "id": "c8e62aec-7c03-48e8-a71e-808bd00f26e5",
   "metadata": {},
   "outputs": [],
   "source": []
  },
  {
   "cell_type": "code",
   "execution_count": 2,
   "id": "f40251a3-dbe8-4be0-893c-945323d979d4",
   "metadata": {},
   "outputs": [
    {
     "name": "stdout",
     "output_type": "stream",
     "text": [
      "A palavra kale não existe no dicionário\n"
     ]
    }
   ],
   "source": [
    "port2eng = {'couve': 'kale', 'repolho': 'cabbage', 'brocolis': 'broccoli'}\n",
    "\n",
    "eng = 'kale'\n",
    "\n",
    "if eng in port2eng:\n",
    "    print(f'A palavra {eng} existe no dicionário')\n",
    "else:\n",
    "    print(f'A palavra {eng} não existe no dicionário')"
   ]
  },
  {
   "cell_type": "markdown",
   "id": "6f687904-4ca6-45ec-a5be-dbc4fa41a03e",
   "metadata": {},
   "source": [
    "# Iteradores .keys(), .values(), .items()"
   ]
  },
  {
   "cell_type": "code",
   "execution_count": null,
   "id": "3e34a78a-ba59-422f-b7b9-53a44dc5c5f1",
   "metadata": {},
   "outputs": [],
   "source": []
  },
  {
   "cell_type": "markdown",
   "id": "1ed63d60-19ac-4e1b-80d2-29aa051d5018",
   "metadata": {},
   "source": [
    "# Relembrando del dicio[chave]"
   ]
  },
  {
   "cell_type": "code",
   "execution_count": null,
   "id": "5607351d-7feb-45d3-8db5-640fee857861",
   "metadata": {},
   "outputs": [],
   "source": []
  },
  {
   "cell_type": "code",
   "execution_count": 3,
   "id": "f19e1f7a-4ac6-4b87-9330-0799b0fb1e16",
   "metadata": {},
   "outputs": [
    {
     "ename": "IndexError",
     "evalue": "list index out of range",
     "output_type": "error",
     "traceback": [
      "\u001b[0;31m---------------------------------------------------------------------------\u001b[0m",
      "\u001b[0;31mIndexError\u001b[0m                                Traceback (most recent call last)",
      "Cell \u001b[0;32mIn[3], line 4\u001b[0m\n\u001b[1;32m      1\u001b[0m l \u001b[38;5;241m=\u001b[39m [\u001b[38;5;241m1\u001b[39m, \u001b[38;5;241m2\u001b[39m, \u001b[38;5;241m3\u001b[39m, \u001b[38;5;241m4\u001b[39m, \u001b[38;5;241m5\u001b[39m, \u001b[38;5;241m6\u001b[39m, \u001b[38;5;241m7\u001b[39m]\n\u001b[1;32m      3\u001b[0m \u001b[38;5;28;01mfor\u001b[39;00m i \u001b[38;5;129;01min\u001b[39;00m \u001b[38;5;28mrange\u001b[39m(\u001b[38;5;28mlen\u001b[39m(l)):\n\u001b[0;32m----> 4\u001b[0m     \u001b[38;5;28;01mif\u001b[39;00m l[i] \u001b[38;5;241m%\u001b[39m \u001b[38;5;241m2\u001b[39m \u001b[38;5;241m==\u001b[39m \u001b[38;5;241m0\u001b[39m: \u001b[38;5;28;01mdel\u001b[39;00m l[i]\n\u001b[1;32m      6\u001b[0m \u001b[38;5;28mprint\u001b[39m(l)\n",
      "\u001b[0;31mIndexError\u001b[0m: list index out of range"
     ]
    }
   ],
   "source": [
    "l = [1, 2, 3, 4, 5, 6, 7]\n",
    "\n",
    "for i in range(len(l)):\n",
    "    if l[i] % 2 == 0: del l[i]\n",
    "\n",
    "print(l)"
   ]
  },
  {
   "cell_type": "code",
   "execution_count": null,
   "id": "93efb7dc-efd6-485b-9073-997e81a7cd76",
   "metadata": {},
   "outputs": [],
   "source": []
  }
 ],
 "metadata": {
  "kernelspec": {
   "display_name": "Python 3 (ipykernel)",
   "language": "python",
   "name": "python3"
  },
  "language_info": {
   "codemirror_mode": {
    "name": "ipython",
    "version": 3
   },
   "file_extension": ".py",
   "mimetype": "text/x-python",
   "name": "python",
   "nbconvert_exporter": "python",
   "pygments_lexer": "ipython3",
   "version": "3.13.0"
  }
 },
 "nbformat": 4,
 "nbformat_minor": 5
}
