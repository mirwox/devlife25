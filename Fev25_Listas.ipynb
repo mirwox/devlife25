{
 "cells": [
  {
   "cell_type": "markdown",
   "id": "3a1c7492-2626-4eb6-bccd-ddf750138ce2",
   "metadata": {},
   "source": [
    "\n",
    "### Métodos de lista"
   ]
  },
  {
   "cell_type": "code",
   "execution_count": 21,
   "id": "13382ae8-799e-4222-be42-fec8ee3628c2",
   "metadata": {},
   "outputs": [
    {
     "data": {
      "text/plain": [
       "6"
      ]
     },
     "execution_count": 21,
     "metadata": {},
     "output_type": "execute_result"
    }
   ],
   "source": [
    "lista = [3,2,1]\n",
    "sum(lista) # Isso é função"
   ]
  },
  {
   "cell_type": "markdown",
   "id": "3514066b-56d4-4250-a912-f1f206986139",
   "metadata": {},
   "source": [
    "### Método `sort()`"
   ]
  },
  {
   "cell_type": "code",
   "execution_count": 29,
   "id": "d27cb326-ef27-46c1-9606-c91b8c31d3b1",
   "metadata": {},
   "outputs": [],
   "source": [
    "lista = list(range(9))"
   ]
  },
  {
   "cell_type": "code",
   "execution_count": 30,
   "id": "53cf9594-1bb9-4c28-9f18-8ac5c16f9f6b",
   "metadata": {},
   "outputs": [
    {
     "data": {
      "text/plain": [
       "[0, 1, 2, 3, 4, 5, 6, 7, 8]"
      ]
     },
     "execution_count": 30,
     "metadata": {},
     "output_type": "execute_result"
    }
   ],
   "source": [
    "lista"
   ]
  },
  {
   "cell_type": "code",
   "execution_count": 33,
   "id": "eb2fd20a-a051-4026-b343-02ae6e66f2a9",
   "metadata": {},
   "outputs": [],
   "source": [
    "lista.sort(reverse=True) ## Isso é método - chama com o nome do objeto e ponto"
   ]
  },
  {
   "cell_type": "code",
   "execution_count": 34,
   "id": "ee06bcd4-d045-4664-af26-bc450c6177d2",
   "metadata": {},
   "outputs": [
    {
     "data": {
      "text/plain": [
       "[8, 7, 6, 5, 4, 3, 2, 1, 0]"
      ]
     },
     "execution_count": 34,
     "metadata": {},
     "output_type": "execute_result"
    }
   ],
   "source": [
    "lista"
   ]
  },
  {
   "cell_type": "code",
   "execution_count": 23,
   "id": "1696e993-7685-4f51-99d3-f5183e91e4bb",
   "metadata": {},
   "outputs": [
    {
     "data": {
      "text/plain": [
       "[1, 2, 3]"
      ]
     },
     "execution_count": 23,
     "metadata": {},
     "output_type": "execute_result"
    }
   ],
   "source": [
    "lista"
   ]
  },
  {
   "cell_type": "markdown",
   "id": "235afbbd-5185-44cb-b247-dd292cd8f4d0",
   "metadata": {},
   "source": []
  },
  {
   "cell_type": "code",
   "execution_count": 24,
   "id": "4a727f76-084c-49fa-95d9-6f6dd99e1b65",
   "metadata": {},
   "outputs": [],
   "source": [
    "lista.reverse()"
   ]
  },
  {
   "cell_type": "code",
   "execution_count": 36,
   "id": "4aec6484-b778-43a2-a3ae-68fdf397d1b9",
   "metadata": {},
   "outputs": [
    {
     "data": {
      "text/plain": [
       "[8, 7, 6, 5, 4, 3, 2, 1, 0]"
      ]
     },
     "execution_count": 36,
     "metadata": {},
     "output_type": "execute_result"
    }
   ],
   "source": [
    "lista"
   ]
  },
  {
   "cell_type": "code",
   "execution_count": 37,
   "id": "80c5227d-5973-42d8-8ec3-a6fc58f48547",
   "metadata": {},
   "outputs": [],
   "source": [
    "lista_apelido = lista"
   ]
  },
  {
   "cell_type": "code",
   "execution_count": 38,
   "id": "ceaa3f11-fb7c-4756-aa63-499a234d5c8d",
   "metadata": {},
   "outputs": [],
   "source": [
    "lista_apelido[2] = 20"
   ]
  },
  {
   "cell_type": "code",
   "execution_count": 40,
   "id": "f5559c9e-a2dd-4447-8f88-ae8d4f582e07",
   "metadata": {},
   "outputs": [
    {
     "name": "stdout",
     "output_type": "stream",
     "text": [
      "20\n",
      "20\n"
     ]
    }
   ],
   "source": [
    "## Quanto vale lista[2]?\n",
    "\n",
    "print(lista_apelido[2])\n",
    "print(lista[2])"
   ]
  },
  {
   "cell_type": "markdown",
   "id": "0e137629-56cd-4974-b05d-76eeb2d0727b",
   "metadata": {},
   "source": [
    "### Método `copy()`\n"
   ]
  },
  {
   "cell_type": "code",
   "execution_count": 41,
   "id": "9c90b658-e232-4471-8d77-89ef54eb2015",
   "metadata": {},
   "outputs": [],
   "source": [
    "lista = [3, 2, 1]\n",
    "\n",
    "lista_copia = lista.copy()"
   ]
  },
  {
   "cell_type": "code",
   "execution_count": 42,
   "id": "b04c9331-d86b-4432-937a-a57afe6cf715",
   "metadata": {
    "scrolled": true
   },
   "outputs": [
    {
     "name": "stdout",
     "output_type": "stream",
     "text": [
      "[3, 2, 1]\n",
      "[3, 2, 515]\n"
     ]
    }
   ],
   "source": [
    "# Testar agora trocando um elemento\n",
    "\n",
    "lista_copia[2] = 515\n",
    "print(lista)\n",
    "print(lista_copia)"
   ]
  },
  {
   "cell_type": "markdown",
   "id": "92c673e9-f7a1-4c5e-9656-6b6fd48cadcc",
   "metadata": {},
   "source": [
    "### Método count(elemento)"
   ]
  },
  {
   "cell_type": "code",
   "execution_count": 43,
   "id": "7b7c2474-2a84-491f-b114-c947f3f54f20",
   "metadata": {},
   "outputs": [],
   "source": [
    "jogo_velha = [\n",
    "['X',' ','X'],\n",
    "['X' ,'O',' '],\n",
    "['X', ' ','O']\n",
    "]"
   ]
  },
  {
   "cell_type": "code",
   "execution_count": 45,
   "id": "f296fa4f-8044-49ae-833b-d84d55f4a7fa",
   "metadata": {},
   "outputs": [
    {
     "data": {
      "text/plain": [
       "'O'"
      ]
     },
     "execution_count": 45,
     "metadata": {},
     "output_type": "execute_result"
    }
   ],
   "source": [
    "jogo_velha[2][2]"
   ]
  },
  {
   "cell_type": "code",
   "execution_count": 46,
   "id": "d7ebe711-3c52-4632-805e-dd1532fd8ff7",
   "metadata": {},
   "outputs": [
    {
     "data": {
      "text/plain": [
       "['X', ' ', 'X']"
      ]
     },
     "execution_count": 46,
     "metadata": {},
     "output_type": "execute_result"
    }
   ],
   "source": [
    "jogo_velha[0]"
   ]
  },
  {
   "cell_type": "code",
   "execution_count": 47,
   "id": "76457f9f-cd16-4b10-8ed1-a8d64fa6e918",
   "metadata": {},
   "outputs": [
    {
     "data": {
      "text/plain": [
       "2"
      ]
     },
     "execution_count": 47,
     "metadata": {},
     "output_type": "execute_result"
    }
   ],
   "source": [
    "linha = jogo_velha[0]\n",
    "linha.count(\"X\")"
   ]
  },
  {
   "cell_type": "code",
   "execution_count": 48,
   "id": "8a515d4e-8768-421e-9d4a-d91f50836cfb",
   "metadata": {},
   "outputs": [
    {
     "data": {
      "text/plain": [
       "1"
      ]
     },
     "execution_count": 48,
     "metadata": {},
     "output_type": "execute_result"
    }
   ],
   "source": [
    "jogo_velha[2].count(\"X\")"
   ]
  },
  {
   "cell_type": "markdown",
   "id": "f3229fb0-d73d-4c91-8be7-2e0e0c30b165",
   "metadata": {},
   "source": [
    "### Método `.index(elemento)`"
   ]
  },
  {
   "cell_type": "code",
   "execution_count": 50,
   "id": "550b5c29-134c-4cc4-bc53-063b44da0ca6",
   "metadata": {},
   "outputs": [],
   "source": [
    "palavras = \"O Insper é Inspirar e Pertencer\".split()"
   ]
  },
  {
   "cell_type": "code",
   "execution_count": 51,
   "id": "f045ef3f-a72a-4466-853c-92792ab02381",
   "metadata": {},
   "outputs": [
    {
     "data": {
      "text/plain": [
       "['O', 'Insper', 'é', 'Inspirar', 'e', 'Pertencer']"
      ]
     },
     "execution_count": 51,
     "metadata": {},
     "output_type": "execute_result"
    }
   ],
   "source": [
    "palavras"
   ]
  },
  {
   "cell_type": "code",
   "execution_count": 52,
   "id": "1c57f146-0b6a-490c-871a-ca4c8f897c8e",
   "metadata": {},
   "outputs": [
    {
     "data": {
      "text/plain": [
       "3"
      ]
     },
     "execution_count": 52,
     "metadata": {},
     "output_type": "execute_result"
    }
   ],
   "source": [
    "palavras.index(\"Inspirar\")"
   ]
  },
  {
   "cell_type": "markdown",
   "id": "82c43cc2-d4b6-48df-9b20-c42d4dbb76c3",
   "metadata": {},
   "source": [
    "### Método `.insert(posicao, elemento)`"
   ]
  },
  {
   "cell_type": "code",
   "execution_count": 53,
   "id": "13de78bf-5617-4176-b894-df72a593f9e6",
   "metadata": {},
   "outputs": [],
   "source": [
    "palavras.insert(3, \"Muito\")"
   ]
  },
  {
   "cell_type": "code",
   "execution_count": 54,
   "id": "cc2cd01e-902d-4dba-b6e3-1b295555b7f9",
   "metadata": {},
   "outputs": [
    {
     "data": {
      "text/plain": [
       "['O', 'Insper', 'é', 'Muito', 'Inspirar', 'e', 'Pertencer']"
      ]
     },
     "execution_count": 54,
     "metadata": {},
     "output_type": "execute_result"
    }
   ],
   "source": [
    "palavras"
   ]
  },
  {
   "cell_type": "markdown",
   "id": "9bc0d80e-df00-4efa-94a6-2b2706d69243",
   "metadata": {},
   "source": [
    "### Método `.pop()` ou `.pop(posicao)`"
   ]
  },
  {
   "cell_type": "code",
   "execution_count": 55,
   "id": "fe0b7857-4238-4dfd-aac3-7b499cb1c002",
   "metadata": {},
   "outputs": [
    {
     "data": {
      "text/plain": [
       "'Muito'"
      ]
     },
     "execution_count": 55,
     "metadata": {},
     "output_type": "execute_result"
    }
   ],
   "source": [
    "palavras.pop(3)"
   ]
  },
  {
   "cell_type": "code",
   "execution_count": 56,
   "id": "dd13cc2f-fe00-49c2-b2b9-1daba5cf8792",
   "metadata": {},
   "outputs": [
    {
     "data": {
      "text/plain": [
       "['O', 'Insper', 'é', 'Inspirar', 'e', 'Pertencer']"
      ]
     },
     "execution_count": 56,
     "metadata": {},
     "output_type": "execute_result"
    }
   ],
   "source": [
    "palavras"
   ]
  },
  {
   "cell_type": "markdown",
   "id": "0c1d2d31-44e8-4792-a48d-3a8c5a625d0e",
   "metadata": {},
   "source": [
    "### Método `.remove(elemento)`"
   ]
  },
  {
   "cell_type": "code",
   "execution_count": 57,
   "id": "186f3cde-6b9b-47e9-8f40-7e31df726cf3",
   "metadata": {},
   "outputs": [],
   "source": [
    "palavras.remove(\"Inspirar\")"
   ]
  },
  {
   "cell_type": "code",
   "execution_count": 58,
   "id": "32b4f961-d0a7-4a86-a0bb-8b78d69b1516",
   "metadata": {},
   "outputs": [
    {
     "data": {
      "text/plain": [
       "['O', 'Insper', 'é', 'e', 'Pertencer']"
      ]
     },
     "execution_count": 58,
     "metadata": {},
     "output_type": "execute_result"
    }
   ],
   "source": [
    "palavras"
   ]
  },
  {
   "cell_type": "markdown",
   "id": "915dd706-a5d9-4f60-9ad9-05fdf0e2c5e7",
   "metadata": {},
   "source": [
    "### Método `.reverse()`"
   ]
  },
  {
   "cell_type": "code",
   "execution_count": null,
   "id": "7002dca5-7fc7-4315-ab1a-6cf15b506790",
   "metadata": {},
   "outputs": [],
   "source": []
  },
  {
   "cell_type": "markdown",
   "id": "63a18fa5-3feb-42c2-922a-1298b1aaadc8",
   "metadata": {},
   "source": [
    "Lista de listas - revisão\n",
    "\n",
    "Jogo da Velha em Python"
   ]
  },
  {
   "cell_type": "code",
   "execution_count": null,
   "id": "b659dbb4-4709-4919-9114-fa0be573bac2",
   "metadata": {},
   "outputs": [],
   "source": [
    "linha_jogo_velha = [\"O\", \"O\", \"X\"]"
   ]
  },
  {
   "cell_type": "markdown",
   "id": "5c33900f-cf33-411f-9cc4-2c1360f0db37",
   "metadata": {},
   "source": [
    "O \"O\" "
   ]
  },
  {
   "cell_type": "code",
   "execution_count": null,
   "id": "50c6f727-b968-4c6f-a01c-34e29869fd78",
   "metadata": {},
   "outputs": [],
   "source": []
  },
  {
   "cell_type": "code",
   "execution_count": 1,
   "id": "f7932253-10de-49b9-a45e-817ce7bc77f5",
   "metadata": {},
   "outputs": [],
   "source": [
    "jogo_velha_1 =  [\n",
    "    [\"O\", \" \", \"X\"],\n",
    "    [\" \", \" \", \"X\"],\n",
    "    [\"O\", \" \", \"X\"]\n",
    "]\n",
    "\n",
    "jogo_velha_2 =  [\n",
    "    [\"O\", \"O\", \" \"],\n",
    "    [\" \", \" \", \" \"],\n",
    "    [\"X\", \"X\", \"X\"]\n",
    "]"
   ]
  },
  {
   "cell_type": "markdown",
   "id": "fbdda3d6-223a-4fe2-807f-3ba5e0ece27d",
   "metadata": {},
   "source": [
    "Faça um código que descubra quantos \"X\" tem nas colunas"
   ]
  },
  {
   "cell_type": "code",
   "execution_count": 72,
   "id": "cc595b3d-2e6c-4be6-8007-93912c58f8fe",
   "metadata": {},
   "outputs": [],
   "source": [
    "def conta_X_Felipe(velha):\n",
    "    i = 0\n",
    "    while i < 3:\n",
    "        xcount = 0\n",
    "        for linha in velha:\n",
    "            if linha[i] == \"X\":\n",
    "                xcount += 1\n",
    "        print(xcount)\n",
    "        i+=1\n",
    "\n",
    "def conta_X_Rafael(velha):\n",
    "    i = 0\n",
    "    j = 0\n",
    "    while j < 3:\n",
    "        xcount  = 0\n",
    "        i = 0 # Linha Rafael\n",
    "        while  i < 3:\n",
    "            if velha[i][j] == \"X\":\n",
    "                xcount += 1\n",
    "            i+=1\n",
    "        print(xcount)\n",
    "\n",
    "        j+=1\n",
    "        \n",
    "\n",
    "def conta_X(velha):\n",
    "    return conta_X_Rafael(velha)"
   ]
  },
  {
   "cell_type": "code",
   "execution_count": 70,
   "id": "e89a695c-76a4-46f6-a5c6-c4ccbd6882ff",
   "metadata": {},
   "outputs": [
    {
     "name": "stdout",
     "output_type": "stream",
     "text": [
      "0\n",
      "0\n",
      "3\n"
     ]
    }
   ],
   "source": [
    "conta_X(jogo_velha_1)"
   ]
  },
  {
   "cell_type": "code",
   "execution_count": 71,
   "id": "f14fbf84-c35e-4764-b6bd-b4f2bef39319",
   "metadata": {},
   "outputs": [
    {
     "name": "stdout",
     "output_type": "stream",
     "text": [
      "1\n",
      "1\n",
      "1\n"
     ]
    }
   ],
   "source": [
    "conta_X(jogo_velha_2)"
   ]
  },
  {
   "cell_type": "code",
   "execution_count": null,
   "id": "993296b9-2ed2-4a1e-b3c7-b41de85109bd",
   "metadata": {},
   "outputs": [],
   "source": []
  }
 ],
 "metadata": {
  "kernelspec": {
   "display_name": "Python 3 (ipykernel)",
   "language": "python",
   "name": "python3"
  },
  "language_info": {
   "codemirror_mode": {
    "name": "ipython",
    "version": 3
   },
   "file_extension": ".py",
   "mimetype": "text/x-python",
   "name": "python",
   "nbconvert_exporter": "python",
   "pygments_lexer": "ipython3",
   "version": "3.13.0"
  }
 },
 "nbformat": 4,
 "nbformat_minor": 5
}
