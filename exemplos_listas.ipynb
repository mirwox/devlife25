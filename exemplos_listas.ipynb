{
 "cells": [
  {
   "cell_type": "markdown",
   "id": "f69fbfb4-704c-439b-860c-aae646f23852",
   "metadata": {},
   "source": [
    "## Listas"
   ]
  },
  {
   "cell_type": "code",
   "execution_count": 1,
   "id": "fb94be94-2cdb-4aff-a2db-e4dec7921f92",
   "metadata": {},
   "outputs": [],
   "source": [
    "l = [\"Ana\", \"João\", \"Lucas\", \"Mônica\", \"Maurício\"]"
   ]
  },
  {
   "cell_type": "code",
   "execution_count": 2,
   "id": "5ad3b887-4cce-4d7f-811e-b3e8f229510d",
   "metadata": {},
   "outputs": [
    {
     "data": {
      "text/plain": [
       "['Ana', 'João', 'Lucas', 'Mônica', 'Maurício']"
      ]
     },
     "execution_count": 2,
     "metadata": {},
     "output_type": "execute_result"
    }
   ],
   "source": [
    "l"
   ]
  },
  {
   "cell_type": "code",
   "execution_count": 3,
   "id": "fef24c27-c74d-4071-9b11-7e3658b3c029",
   "metadata": {},
   "outputs": [],
   "source": [
    "l.append(\"Silva\")"
   ]
  },
  {
   "cell_type": "code",
   "execution_count": 4,
   "id": "bb417f87-2795-443a-81ba-f8913d5f1c96",
   "metadata": {},
   "outputs": [
    {
     "name": "stdout",
     "output_type": "stream",
     "text": [
      "['Ana', 'João', 'Lucas', 'Mônica', 'Maurício', 'Silva']\n"
     ]
    }
   ],
   "source": [
    "print(l)"
   ]
  },
  {
   "cell_type": "markdown",
   "id": "075d8ae4-e4a1-4c0c-87f9-9472c7cf02e8",
   "metadata": {},
   "source": [
    "Indexação"
   ]
  },
  {
   "cell_type": "code",
   "execution_count": 5,
   "id": "ed03732a-8b89-4679-86a0-459892586438",
   "metadata": {},
   "outputs": [
    {
     "data": {
      "text/plain": [
       "'Lucas'"
      ]
     },
     "execution_count": 5,
     "metadata": {},
     "output_type": "execute_result"
    }
   ],
   "source": [
    "l[2]"
   ]
  },
  {
   "cell_type": "markdown",
   "id": "10cc62bd-7e60-44c7-944e-65fccd4e92c7",
   "metadata": {},
   "source": [
    "Substitiuição"
   ]
  },
  {
   "cell_type": "code",
   "execution_count": 6,
   "id": "6465a9ea-b210-42de-95c9-7d100a0f57ff",
   "metadata": {},
   "outputs": [],
   "source": [
    "l[1] = \"Mateus\""
   ]
  },
  {
   "cell_type": "code",
   "execution_count": 7,
   "id": "658b116c-d33b-4fda-8fa4-80f9ab316744",
   "metadata": {},
   "outputs": [
    {
     "data": {
      "text/plain": [
       "['Ana', 'Mateus', 'Lucas', 'Mônica', 'Maurício', 'Silva']"
      ]
     },
     "execution_count": 7,
     "metadata": {},
     "output_type": "execute_result"
    }
   ],
   "source": [
    "l"
   ]
  },
  {
   "cell_type": "markdown",
   "id": "e3f5f4f0-94db-446c-9e0b-bcbde4566bac",
   "metadata": {},
   "source": [
    "Soma - concatenação"
   ]
  },
  {
   "cell_type": "code",
   "execution_count": 8,
   "id": "e24bab40-1f70-4fec-837f-669be308ca2b",
   "metadata": {},
   "outputs": [
    {
     "data": {
      "text/plain": [
       "[1, 2, 3, 4, 5]"
      ]
     },
     "execution_count": 8,
     "metadata": {},
     "output_type": "execute_result"
    }
   ],
   "source": [
    "[1,2,3] + [4,5]"
   ]
  },
  {
   "cell_type": "markdown",
   "id": "0a9e434d-a93a-4537-9af1-a5106377a003",
   "metadata": {},
   "source": [
    "Multiplicação"
   ]
  },
  {
   "cell_type": "code",
   "execution_count": 9,
   "id": "38e0fe8f-ebb9-43ef-82d4-3924da6b07ca",
   "metadata": {},
   "outputs": [],
   "source": [
    "lista = [1,2,3]"
   ]
  },
  {
   "cell_type": "code",
   "execution_count": 10,
   "id": "1f4e2cbb-72a0-492f-93a4-362803369280",
   "metadata": {},
   "outputs": [],
   "source": [
    "lista_vezes = lista*3"
   ]
  },
  {
   "cell_type": "code",
   "execution_count": 11,
   "id": "1741c324-9b84-4093-b0e7-ebaddcea9ab8",
   "metadata": {},
   "outputs": [
    {
     "data": {
      "text/plain": [
       "[1, 2, 3, 1, 2, 3, 1, 2, 3]"
      ]
     },
     "execution_count": 11,
     "metadata": {},
     "output_type": "execute_result"
    }
   ],
   "source": [
    "lista_vezes"
   ]
  },
  {
   "cell_type": "markdown",
   "id": "641c5f25-d265-4bfb-b013-a0a09231e71e",
   "metadata": {},
   "source": [
    "Aninhamento"
   ]
  },
  {
   "cell_type": "code",
   "execution_count": 12,
   "id": "5ca4b166-b00f-4210-a5ec-a1321f6ed34f",
   "metadata": {},
   "outputs": [],
   "source": [
    "lista_vezes[1] = lista"
   ]
  },
  {
   "cell_type": "code",
   "execution_count": 13,
   "id": "641420d7-2c13-4103-b8f6-53bc2201634d",
   "metadata": {
    "scrolled": true
   },
   "outputs": [
    {
     "data": {
      "text/plain": [
       "[1, [1, 2, 3], 3, 1, 2, 3, 1, 2, 3]"
      ]
     },
     "execution_count": 13,
     "metadata": {},
     "output_type": "execute_result"
    }
   ],
   "source": [
    "lista_vezes"
   ]
  },
  {
   "cell_type": "code",
   "execution_count": 14,
   "id": "af6a7c47-bce7-4009-aeb3-923c0e954792",
   "metadata": {},
   "outputs": [
    {
     "data": {
      "text/plain": [
       "3"
      ]
     },
     "execution_count": 14,
     "metadata": {},
     "output_type": "execute_result"
    }
   ],
   "source": [
    "lista_vezes[1][2]"
   ]
  },
  {
   "cell_type": "markdown",
   "id": "66d85300-2a17-4f70-8ca6-bf9ace33abb1",
   "metadata": {},
   "source": [
    "Loop"
   ]
  },
  {
   "cell_type": "code",
   "execution_count": 15,
   "id": "8a238489-0a2b-4b7c-b9f3-c7b0a31d8504",
   "metadata": {},
   "outputs": [],
   "source": [
    "import math\n",
    "def eh_primo(n):\n",
    "    num = int(math.sqrt(n)) + 1\n",
    "    while num > 1:\n",
    "        if n % num == 0:\n",
    "            return False \n",
    "        num -= 1\n",
    "    return True "
   ]
  },
  {
   "cell_type": "code",
   "execution_count": 19,
   "id": "91e225d3-771f-490a-aee5-31b6e688a84f",
   "metadata": {},
   "outputs": [],
   "source": [
    "\n",
    "primes = [  3, 5, 7, 11, 13, 17, 19, 23, 29,\n",
    "31, 37, 41, 43, 47, 53, 59, 61, 67, 71,\n",
    "73, 79, 83, 89, 97, 101, 103, 107, 109, 113,\n",
    "127, 131, 137, 139, 147, 149, 151, 157, 163, 167, 173]"
   ]
  },
  {
   "cell_type": "markdown",
   "id": "98e3b04d-b6e4-474e-a039-a57b5b1b8fb7",
   "metadata": {},
   "source": [
    "Vamos verificar qual número na lista **não é** primo"
   ]
  },
  {
   "cell_type": "code",
   "execution_count": 20,
   "id": "c0f07a7a-cea7-4c02-822c-ffe841c3749c",
   "metadata": {},
   "outputs": [
    {
     "name": "stdout",
     "output_type": "stream",
     "text": [
      "147\n"
     ]
    }
   ],
   "source": [
    "i = 0\n",
    "while (i < len(primes)):\n",
    "    if eh_primo(primes[i]) == False:\n",
    "        print(primes[i])\n",
    "    i+=1\n",
    "\n",
    "    \n",
    "    "
   ]
  },
  {
   "cell_type": "code",
   "execution_count": null,
   "id": "b93e24d8-9d5a-4339-ab00-cd34645e6b06",
   "metadata": {},
   "outputs": [],
   "source": []
  },
  {
   "cell_type": "code",
   "execution_count": null,
   "id": "5eea4a53-a087-47bd-a723-e3ea91a48ef7",
   "metadata": {},
   "outputs": [],
   "source": []
  },
  {
   "cell_type": "code",
   "execution_count": null,
   "id": "df3c0212-3a3b-4bce-b401-12ae59c72176",
   "metadata": {},
   "outputs": [],
   "source": []
  },
  {
   "cell_type": "code",
   "execution_count": null,
   "id": "8e61bed2-7a18-4bc5-a489-1438c5ffdae5",
   "metadata": {},
   "outputs": [],
   "source": []
  },
  {
   "cell_type": "code",
   "execution_count": null,
   "id": "1eed2674-fbb1-41bd-8aa0-727a09c67094",
   "metadata": {},
   "outputs": [],
   "source": []
  },
  {
   "cell_type": "markdown",
   "id": "898268b7-53d2-47d4-97e2-2bdad5b704a8",
   "metadata": {},
   "source": [
    "Range\n"
   ]
  },
  {
   "cell_type": "code",
   "execution_count": null,
   "id": "8dfd8945-c18d-4fe2-929f-ab6099d10c89",
   "metadata": {},
   "outputs": [],
   "source": []
  },
  {
   "cell_type": "code",
   "execution_count": 24,
   "id": "d81b23cd-84ec-442d-ba28-aea9be58b2a5",
   "metadata": {},
   "outputs": [
    {
     "name": "stdout",
     "output_type": "stream",
     "text": [
      "0\n",
      "1\n",
      "2\n",
      "3\n"
     ]
    }
   ],
   "source": [
    "lista = list(range(4))\n",
    "\n",
    "i = 0\n",
    "\n",
    "while i < len(lista):\n",
    "    print(lista[i])\n",
    "    i += 1"
   ]
  },
  {
   "cell_type": "code",
   "execution_count": 25,
   "id": "de021400-c660-45d5-9e84-46bbc80e804c",
   "metadata": {},
   "outputs": [
    {
     "name": "stdout",
     "output_type": "stream",
     "text": [
      "range(0, 4)\n"
     ]
    }
   ],
   "source": [
    "print(range(4))"
   ]
  },
  {
   "cell_type": "code",
   "execution_count": 26,
   "id": "b929121f-c325-4f0d-ae0e-10dc81340815",
   "metadata": {},
   "outputs": [
    {
     "data": {
      "text/plain": [
       "range"
      ]
     },
     "execution_count": 26,
     "metadata": {},
     "output_type": "execute_result"
    }
   ],
   "source": [
    "type(range(0,4))\n"
   ]
  },
  {
   "cell_type": "code",
   "execution_count": null,
   "id": "9c92ae36-7c26-4711-a20a-87a190a9137d",
   "metadata": {},
   "outputs": [],
   "source": []
  },
  {
   "cell_type": "code",
   "execution_count": null,
   "id": "276bf861-824d-40eb-a736-7b0597082ab3",
   "metadata": {},
   "outputs": [],
   "source": []
  },
  {
   "cell_type": "markdown",
   "id": "ab6dab77-6953-476d-99a0-e58b3f55c48e",
   "metadata": {},
   "source": [
    "## For"
   ]
  },
  {
   "cell_type": "code",
   "execution_count": 28,
   "id": "e3b92a7f-37a0-44a4-b565-2b7e553e800e",
   "metadata": {},
   "outputs": [],
   "source": [
    "nomes = [\"Ana\", \"João\", \"Lucas\", \"Mônica\", \"Maurício\"]\n"
   ]
  },
  {
   "cell_type": "code",
   "execution_count": 29,
   "id": "16ad1811-3a29-4d1d-9376-e6b623085be0",
   "metadata": {},
   "outputs": [
    {
     "name": "stdout",
     "output_type": "stream",
     "text": [
      "Ana\n",
      "João\n",
      "Lucas\n",
      "Mônica\n",
      "Maurício\n"
     ]
    }
   ],
   "source": [
    "for nome in nomes:\n",
    "    print(nome)"
   ]
  },
  {
   "cell_type": "code",
   "execution_count": 30,
   "id": "b54e151f-72d5-4160-905d-bb159cc13618",
   "metadata": {},
   "outputs": [
    {
     "name": "stdout",
     "output_type": "stream",
     "text": [
      "0\n",
      "1\n",
      "2\n",
      "3\n"
     ]
    }
   ],
   "source": [
    "for i in range(4):\n",
    "    print(i)"
   ]
  },
  {
   "cell_type": "code",
   "execution_count": 31,
   "id": "b81cca03-aa38-427b-b9b4-6d60c2ff321f",
   "metadata": {},
   "outputs": [
    {
     "name": "stdout",
     "output_type": "stream",
     "text": [
      "1\n",
      "2\n",
      "3\n"
     ]
    }
   ],
   "source": [
    "for i in range(1, 4):\n",
    "    print(i)"
   ]
  },
  {
   "cell_type": "code",
   "execution_count": 33,
   "id": "b98bbdf4-a2a1-46d1-b411-a456631466f3",
   "metadata": {},
   "outputs": [
    {
     "name": "stdout",
     "output_type": "stream",
     "text": [
      "100\n",
      "98\n",
      "96\n",
      "94\n",
      "92\n",
      "90\n",
      "88\n",
      "86\n",
      "84\n",
      "82\n",
      "80\n",
      "78\n",
      "76\n",
      "74\n",
      "72\n",
      "70\n",
      "68\n",
      "66\n",
      "64\n",
      "62\n",
      "60\n",
      "58\n",
      "56\n",
      "54\n",
      "52\n",
      "50\n",
      "48\n",
      "46\n",
      "44\n",
      "42\n",
      "40\n",
      "38\n",
      "36\n",
      "34\n",
      "32\n",
      "30\n",
      "28\n",
      "26\n",
      "24\n",
      "22\n",
      "20\n",
      "18\n",
      "16\n",
      "14\n",
      "12\n",
      "10\n",
      "8\n",
      "6\n",
      "4\n",
      "2\n"
     ]
    }
   ],
   "source": [
    "for i in range(100, 0, -2):\n",
    "    print(i)"
   ]
  },
  {
   "cell_type": "code",
   "execution_count": null,
   "id": "6502cd3d-83da-48ac-99a9-fab762278c9d",
   "metadata": {},
   "outputs": [],
   "source": []
  }
 ],
 "metadata": {
  "kernelspec": {
   "display_name": "Python 3 (ipykernel)",
   "language": "python",
   "name": "python3"
  },
  "language_info": {
   "codemirror_mode": {
    "name": "ipython",
    "version": 3
   },
   "file_extension": ".py",
   "mimetype": "text/x-python",
   "name": "python",
   "nbconvert_exporter": "python",
   "pygments_lexer": "ipython3",
   "version": "3.13.0"
  }
 },
 "nbformat": 4,
 "nbformat_minor": 5
}
