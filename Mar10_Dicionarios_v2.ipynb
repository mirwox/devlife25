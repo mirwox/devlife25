{
 "cells": [
  {
   "cell_type": "markdown",
   "id": "c01b6788-2d31-4aaa-8257-fb8402a0d3ca",
   "metadata": {},
   "source": [
    "# Verificando se chave existe"
   ]
  },
  {
   "cell_type": "code",
   "execution_count": 3,
   "id": "b3dcddc2-1e83-43ec-8498-b5c26ae84548",
   "metadata": {},
   "outputs": [
    {
     "name": "stdout",
     "output_type": "stream",
     "text": [
      "couve em inglês é kale\n",
      "couve em inglês é kale\n"
     ]
    }
   ],
   "source": [
    "port2eng = {'couve': 'kale', 'repolho': 'cabbage', 'brocolis': 'broccoli'}\n",
    "\n",
    "port = 'couve'\n",
    "\n",
    "if port in port2eng:\n",
    "    eng = port2eng[port]\n",
    "    print(f'{port} em inglês é {eng}')\n",
    "\n",
    "if port2eng.get(port)!= None:\n",
    "    eng = port2eng.get(port)\n",
    "    print(f'{port} em inglês é {eng}')\n"
   ]
  },
  {
   "cell_type": "code",
   "execution_count": null,
   "id": "6d6527be-40b6-4a41-a958-313f0b79ae3a",
   "metadata": {},
   "outputs": [],
   "source": []
  },
  {
   "cell_type": "markdown",
   "id": "6f687904-4ca6-45ec-a5be-dbc4fa41a03e",
   "metadata": {},
   "source": [
    "# Iteradores .keys(), .values(), .items()"
   ]
  },
  {
   "cell_type": "code",
   "execution_count": 4,
   "id": "28432065-2f2e-40bb-b6aa-49930663946c",
   "metadata": {},
   "outputs": [],
   "source": [
    "jogadores_brasileiros = {\n",
    "    'Goleiro': 'Alisson Becker',\n",
    "    'Lateral Direito': 'Dani Alves',\n",
    "    'Lateral Esquerdo': 'Alex Sandro',\n",
    "    'Zagueiro 1': 'Marquinhos',\n",
    "    'Zagueiro 2': 'Thiago Silva',\n",
    "    'Volante': 'Casemiro',\n",
    "    'Meia Central': 'Lucas Paquetá',\n",
    "    'Meia Ofensivo': 'Neymar Jr.',\n",
    "    'Ponta Direita': 'Raphinha',\n",
    "    'Ponta Esquerda': 'Vinícius Júnior',\n",
    "    'Atacante': 'Richarlison'\n",
    "}"
   ]
  },
  {
   "cell_type": "code",
   "execution_count": 8,
   "id": "3e34a78a-ba59-422f-b7b9-53a44dc5c5f1",
   "metadata": {},
   "outputs": [
    {
     "data": {
      "text/plain": [
       "dict_keys(['Goleiro', 'Lateral Direito', 'Lateral Esquerdo', 'Zagueiro 1', 'Zagueiro 2', 'Volante', 'Meia Central', 'Meia Ofensivo', 'Ponta Direita', 'Ponta Esquerda', 'Atacante'])"
      ]
     },
     "execution_count": 8,
     "metadata": {},
     "output_type": "execute_result"
    }
   ],
   "source": [
    "jogadores_brasileiros.keys()"
   ]
  },
  {
   "cell_type": "code",
   "execution_count": 9,
   "id": "5b48d70b-7c3a-414e-8946-236df070bbfd",
   "metadata": {},
   "outputs": [
    {
     "data": {
      "text/plain": [
       "dict_values(['Alisson Becker', 'Dani Alves', 'Alex Sandro', 'Marquinhos', 'Thiago Silva', 'Casemiro', 'Lucas Paquetá', 'Neymar Jr.', 'Raphinha', 'Vinícius Júnior', 'Richarlison'])"
      ]
     },
     "execution_count": 9,
     "metadata": {},
     "output_type": "execute_result"
    }
   ],
   "source": [
    "jogadores_brasileiros.values()"
   ]
  },
  {
   "cell_type": "code",
   "execution_count": 11,
   "id": "e881b5cf-43ed-4a24-a706-3f5ce739642c",
   "metadata": {
    "scrolled": true
   },
   "outputs": [
    {
     "name": "stdout",
     "output_type": "stream",
     "text": [
      "Goleiro Alisson Becker\n",
      "Lateral Direito Dani Alves\n",
      "Lateral Esquerdo Alex Sandro\n",
      "Zagueiro 1 Marquinhos\n",
      "Zagueiro 2 Thiago Silva\n",
      "Volante Casemiro\n",
      "Meia Central Lucas Paquetá\n",
      "Meia Ofensivo Neymar Jr.\n",
      "Ponta Direita Raphinha\n",
      "Ponta Esquerda Vinícius Júnior\n",
      "Atacante Richarlison\n"
     ]
    }
   ],
   "source": [
    "for k in jogadores_brasileiros:\n",
    "    print(k, jogadores_brasileiros[k])\n",
    "    "
   ]
  },
  {
   "cell_type": "code",
   "execution_count": 12,
   "id": "431aab6e-ce5e-4348-88fa-b98cfb0e15b1",
   "metadata": {},
   "outputs": [
    {
     "name": "stdout",
     "output_type": "stream",
     "text": [
      "Goleiro Alisson Becker\n",
      "Lateral Direito Dani Alves\n",
      "Lateral Esquerdo Alex Sandro\n",
      "Zagueiro 1 Marquinhos\n",
      "Zagueiro 2 Thiago Silva\n",
      "Volante Casemiro\n",
      "Meia Central Lucas Paquetá\n",
      "Meia Ofensivo Neymar Jr.\n",
      "Ponta Direita Raphinha\n",
      "Ponta Esquerda Vinícius Júnior\n",
      "Atacante Richarlison\n"
     ]
    }
   ],
   "source": [
    "for k,v in jogadores_brasileiros.items():\n",
    "    print(k, v)"
   ]
  },
  {
   "cell_type": "markdown",
   "id": "1ed63d60-19ac-4e1b-80d2-29aa051d5018",
   "metadata": {},
   "source": [
    "# Relembrando del dicio[chave]"
   ]
  },
  {
   "cell_type": "code",
   "execution_count": 13,
   "id": "5607351d-7feb-45d3-8db5-640fee857861",
   "metadata": {},
   "outputs": [],
   "source": [
    "del jogadores_brasileiros[\"Goleiro\"]"
   ]
  },
  {
   "cell_type": "code",
   "execution_count": 16,
   "id": "f19e1f7a-4ac6-4b87-9330-0799b0fb1e16",
   "metadata": {
    "scrolled": true
   },
   "outputs": [
    {
     "ename": "KeyError",
     "evalue": "'Goleiro'",
     "output_type": "error",
     "traceback": [
      "\u001b[0;31m---------------------------------------------------------------------------\u001b[0m",
      "\u001b[0;31mKeyError\u001b[0m                                  Traceback (most recent call last)",
      "Cell \u001b[0;32mIn[16], line 1\u001b[0m\n\u001b[0;32m----> 1\u001b[0m \u001b[43mjogadores_brasileiros\u001b[49m\u001b[43m[\u001b[49m\u001b[38;5;124;43m\"\u001b[39;49m\u001b[38;5;124;43mGoleiro\u001b[39;49m\u001b[38;5;124;43m\"\u001b[39;49m\u001b[43m]\u001b[49m\n",
      "\u001b[0;31mKeyError\u001b[0m: 'Goleiro'"
     ]
    }
   ],
   "source": [
    "jogadores_brasileiros[\"Goleiro\"]"
   ]
  },
  {
   "cell_type": "code",
   "execution_count": 17,
   "id": "444c6575-0292-4802-b455-a1fab3b8a831",
   "metadata": {},
   "outputs": [
    {
     "data": {
      "text/plain": [
       "'Marquinhos'"
      ]
     },
     "execution_count": 17,
     "metadata": {},
     "output_type": "execute_result"
    }
   ],
   "source": [
    "jogadores_brasileiros.pop(\"Zagueiro 1\")"
   ]
  },
  {
   "cell_type": "code",
   "execution_count": 18,
   "id": "d85de27b-c8e1-4474-951f-542c27928efe",
   "metadata": {},
   "outputs": [
    {
     "data": {
      "text/plain": [
       "{'Lateral Direito': 'Dani Alves',\n",
       " 'Lateral Esquerdo': 'Alex Sandro',\n",
       " 'Zagueiro 2': 'Thiago Silva',\n",
       " 'Volante': 'Casemiro',\n",
       " 'Meia Central': 'Lucas Paquetá',\n",
       " 'Meia Ofensivo': 'Neymar Jr.',\n",
       " 'Ponta Direita': 'Raphinha',\n",
       " 'Ponta Esquerda': 'Vinícius Júnior',\n",
       " 'Atacante': 'Richarlison'}"
      ]
     },
     "execution_count": 18,
     "metadata": {},
     "output_type": "execute_result"
    }
   ],
   "source": [
    "jogadores_brasileiros"
   ]
  },
  {
   "cell_type": "markdown",
   "id": "31b71f67-e922-48e6-9a31-6b6151b2f0c5",
   "metadata": {},
   "source": [
    "# Dicionários aninhados"
   ]
  },
  {
   "cell_type": "code",
   "execution_count": 21,
   "id": "93efb7dc-efd6-485b-9073-997e81a7cd76",
   "metadata": {},
   "outputs": [],
   "source": [
    "# Jogadores Brasileiros\n",
    "jogadores_brasileiros = {\n",
    "    'Goleiro': 'Alisson Becker',\n",
    "    'Lateral Direito': 'Dani Alves',\n",
    "    'Lateral Esquerdo': 'Alex Sandro',\n",
    "    'Zagueiro 1': 'Marquinhos',\n",
    "    'Zagueiro 2': 'Thiago Silva',\n",
    "    'Volante': 'Casemiro',\n",
    "    'Meia Central': 'Lucas Paquetá',\n",
    "    'Meia Ofensivo': 'Neymar Jr.',\n",
    "    'Ponta Direita': 'Raphinha',\n",
    "    'Ponta Esquerda': 'Vinícius Júnior',\n",
    "    'Atacante': 'Richarlison'\n",
    "}\n",
    "\n",
    "# Jogadores Argentinos\n",
    "jogadores_argentinos = {\n",
    "    'Goleiro': 'Emiliano Martínez',\n",
    "    'Lateral Direito': 'Nahuel Molina',\n",
    "    'Lateral Esquerdo': 'Marcos Acuña',\n",
    "    'Zagueiro 1': 'Cristian Romero',\n",
    "    'Zagueiro 2': 'Nicolás Otamendi',\n",
    "    'Volante': 'Leandro Paredes',\n",
    "    'Meia Central': 'Rodrigo De Paul',\n",
    "    'Meia Ofensivo': 'Lionel Messi',\n",
    "    'Ponta Direita': 'Ángel Di María',\n",
    "    'Ponta Esquerda': 'Alexis Mac Allister',\n",
    "    'Atacante': 'Julián Álvarez'\n",
    "}\n",
    "\n",
    "# Jogadores Espanhóis\n",
    "jogadores_espanhois = {\n",
    "    'Goleiro': 'Unai Simón',\n",
    "    'Lateral Direito': 'César Azpilicueta',\n",
    "    'Lateral Esquerdo': 'Jordi Alba',\n",
    "    'Zagueiro 1': 'Aymeric Laporte',\n",
    "    'Zagueiro 2': 'Pau Torres',\n",
    "    'Volante': 'Sergio Busquets',\n",
    "    'Meia Central': 'Pedri',\n",
    "    'Meia Ofensivo': 'Gavi',\n",
    "    'Ponta Direita': 'Ferran Torres',\n",
    "    'Ponta Esquerda': 'Dani Olmo',\n",
    "    'Atacante': 'Álvaro Morata'\n",
    "}\n"
   ]
  },
  {
   "cell_type": "markdown",
   "id": "487f1afc-cb72-4877-84e8-3a4f0cc0e318",
   "metadata": {},
   "source": [
    "Crie um dicionário em que o time brasileiro esteja na chave `time[\"Brasil\"]``\n"
   ]
  },
  {
   "cell_type": "code",
   "execution_count": 22,
   "id": "bbab039a-f67d-4ad6-860b-aef6c1582a88",
   "metadata": {},
   "outputs": [],
   "source": [
    "time = {\"Brasil\": jogadores_brasileiros, \"Argentina\": jogadores_argentinos, \"Espanha\": jogadores_espanhois}"
   ]
  },
  {
   "cell_type": "markdown",
   "id": "21ceb600-426d-46b2-bcbd-c985368bbb9e",
   "metadata": {},
   "source": []
  },
  {
   "cell_type": "code",
   "execution_count": 24,
   "id": "de207c30-c01b-426a-a53a-c3497239af96",
   "metadata": {},
   "outputs": [
    {
     "name": "stdout",
     "output_type": "stream",
     "text": [
      "Time do Brasil, tem por goleiro Alisson Becker\n",
      "Time do Argentina, tem por goleiro Emiliano Martínez\n",
      "Time do Espanha, tem por goleiro Unai Simón\n"
     ]
    }
   ],
   "source": [
    "for k in time:\n",
    "    goleiro = time[k][\"Goleiro\"]\n",
    "    print(f'Time do {k}, tem por goleiro {goleiro}')"
   ]
  },
  {
   "cell_type": "markdown",
   "id": "fac7f2ae-a26f-4198-9ceb-69704a6f9038",
   "metadata": {},
   "source": [
    "*Inverta* o dicionário do time argentino de maneia que fique  argentina[\"Meia Ofensivo\"] retorne \"Lionel Messi\""
   ]
  },
  {
   "cell_type": "code",
   "execution_count": 25,
   "id": "a56449ed-f144-4859-9ccf-50e96018ae55",
   "metadata": {},
   "outputs": [],
   "source": [
    "invertido = {}\n",
    "\n",
    "for k in jogadores_argentinos:\n",
    "    invertido[jogadores_argentinos[k]] = k "
   ]
  },
  {
   "cell_type": "code",
   "execution_count": 26,
   "id": "12540148-d5c5-4e97-ac8a-239cf3d7220c",
   "metadata": {},
   "outputs": [
    {
     "data": {
      "text/plain": [
       "{'Emiliano Martínez': 'Goleiro',\n",
       " 'Nahuel Molina': 'Lateral Direito',\n",
       " 'Marcos Acuña': 'Lateral Esquerdo',\n",
       " 'Cristian Romero': 'Zagueiro 1',\n",
       " 'Nicolás Otamendi': 'Zagueiro 2',\n",
       " 'Leandro Paredes': 'Volante',\n",
       " 'Rodrigo De Paul': 'Meia Central',\n",
       " 'Lionel Messi': 'Meia Ofensivo',\n",
       " 'Ángel Di María': 'Ponta Direita',\n",
       " 'Alexis Mac Allister': 'Ponta Esquerda',\n",
       " 'Julián Álvarez': 'Atacante'}"
      ]
     },
     "execution_count": 26,
     "metadata": {},
     "output_type": "execute_result"
    }
   ],
   "source": [
    "invertido"
   ]
  },
  {
   "cell_type": "code",
   "execution_count": 28,
   "id": "5087627d-4cfa-4510-a52d-44f2a9578db0",
   "metadata": {},
   "outputs": [
    {
     "data": {
      "text/plain": [
       "'Meia Ofensivo'"
      ]
     },
     "execution_count": 28,
     "metadata": {},
     "output_type": "execute_result"
    }
   ],
   "source": [
    "invertido[\"Lionel Messi\"]"
   ]
  },
  {
   "cell_type": "code",
   "execution_count": 29,
   "id": "31a4729a-b3d7-4396-8151-9f0d1274d29d",
   "metadata": {},
   "outputs": [],
   "source": [
    "invertido2 = {}\n",
    "\n",
    "for k,v in jogadores_argentinos.items():\n",
    "    invertido2[v] = k"
   ]
  },
  {
   "cell_type": "code",
   "execution_count": 30,
   "id": "cbd206ed-2b28-4af0-b789-dcae756db239",
   "metadata": {},
   "outputs": [
    {
     "data": {
      "text/plain": [
       "{'Emiliano Martínez': 'Goleiro',\n",
       " 'Nahuel Molina': 'Lateral Direito',\n",
       " 'Marcos Acuña': 'Lateral Esquerdo',\n",
       " 'Cristian Romero': 'Zagueiro 1',\n",
       " 'Nicolás Otamendi': 'Zagueiro 2',\n",
       " 'Leandro Paredes': 'Volante',\n",
       " 'Rodrigo De Paul': 'Meia Central',\n",
       " 'Lionel Messi': 'Meia Ofensivo',\n",
       " 'Ángel Di María': 'Ponta Direita',\n",
       " 'Alexis Mac Allister': 'Ponta Esquerda',\n",
       " 'Julián Álvarez': 'Atacante'}"
      ]
     },
     "execution_count": 30,
     "metadata": {},
     "output_type": "execute_result"
    }
   ],
   "source": [
    "invertido2"
   ]
  },
  {
   "cell_type": "code",
   "execution_count": null,
   "id": "4309c6e4-509d-4493-87b9-883f0c4e37ec",
   "metadata": {},
   "outputs": [],
   "source": []
  }
 ],
 "metadata": {
  "kernelspec": {
   "display_name": "Python 3 (ipykernel)",
   "language": "python",
   "name": "python3"
  },
  "language_info": {
   "codemirror_mode": {
    "name": "ipython",
    "version": 3
   },
   "file_extension": ".py",
   "mimetype": "text/x-python",
   "name": "python",
   "nbconvert_exporter": "python",
   "pygments_lexer": "ipython3",
   "version": "3.13.0"
  }
 },
 "nbformat": 4,
 "nbformat_minor": 5
}
